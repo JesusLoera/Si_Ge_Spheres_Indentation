{
 "cells": [
  {
   "cell_type": "markdown",
   "metadata": {},
   "source": [
    "# Renderización de gifs\n",
    "\n",
    "De simulaciones de indentación y análisis de coordinación"
   ]
  },
  {
   "cell_type": "code",
   "execution_count": 1,
   "metadata": {},
   "outputs": [],
   "source": [
    "from ovito.io import *\n",
    "from ovito.modifiers import *\n",
    "from ovito.pipeline import *\n",
    "from ovito.vis import *\n",
    "import numpy as np"
   ]
  },
  {
   "cell_type": "code",
   "execution_count": 2,
   "metadata": {},
   "outputs": [],
   "source": [
    "type_particle = 'si-ge-coreshell'\n",
    "diameters = [10]\n",
    "orientations = [100, 110, 111, 112]\n",
    "si_percentages = np.arange(0, 110, 20)"
   ]
  },
  {
   "cell_type": "code",
   "execution_count": 3,
   "metadata": {},
   "outputs": [],
   "source": [
    "for diam in diameters:\n",
    "    for orientation in orientations:\n",
    "        for si_percen in si_percentages:\n",
    "\n",
    "            dumpfile = f\"/home/mejia/Documents/Servicio_Social_2022_2023/hnp_si/simulaciones/{type_particle}/{diam}nm/{orientation}/{si_percen}si-{100-si_percen}ge/dump.indent\"\n",
    "\n",
    "            cna_file = f\"/home/mejia/Documents/Servicio_Social_2022_2023/hnp_si/data_analysis/animations/CNACoreshell/Z{orientation}-{si_percen}si-{100-si_percen}ge.gif\"\n",
    "\n",
    "            indentation_file = f\"/home/mejia/Documents/Servicio_Social_2022_2023/hnp_si/data_analysis/animations/IndentationCoreshell/Z{orientation}-{si_percen}si-{100-si_percen}ge.gif\"\n",
    "\n",
    "            pipeline = import_file(dumpfile, multiple_frames = True)\n",
    "            modifier = CoordinationAnalysisModifier(cutoff = 2.8, number_of_bins = 100)\n",
    "            pipeline.modifiers.append(modifier)\n",
    "            pipeline.add_to_scene()\n",
    "            vp = Viewport()\n",
    "            vp.camera_pos = (80.2549, 81.602, 53.632)\n",
    "            vp.camera_dir = (-1, 0, 0)\n",
    "            vp.fov = 66.519\n",
    "            cell_vis = pipeline.source.data.cell.vis\n",
    "            cell_vis.render_cell = False\n",
    "\n",
    "            vp.render_anim(filename=indentation_file, \n",
    "                            size=(400,300),\n",
    "                            background=(1,1,1), \n",
    "                            renderer=TachyonRenderer(ambient_occlusion=False, shadows=False,))\n",
    "    \n",
    "            \n",
    "            pipeline.modifiers.append(ColorCodingModifier(\n",
    "                property = 'Coordination',\n",
    "                gradient = ColorCodingModifier.Rainbow(),\n",
    "                start_value = 0,\n",
    "                end_value = 6\n",
    "            ))\n",
    "\n",
    "            pipeline.modifiers.append(SliceModifier(\n",
    "                normal=(1.0, 0.0, 0.0)\n",
    "            ))\n",
    "\n",
    "            vp.render_anim(filename=cna_file, \n",
    "                            size=(400,300),\n",
    "                            background=(1,1,1), \n",
    "                            renderer=TachyonRenderer(ambient_occlusion=False, shadows=False,))\n",
    "            \n",
    "            pipeline.remove_from_scene()\n",
    "            "
   ]
  }
 ],
 "metadata": {
  "kernelspec": {
   "display_name": "Python 3",
   "language": "python",
   "name": "python3"
  },
  "language_info": {
   "codemirror_mode": {
    "name": "ipython",
    "version": 3
   },
   "file_extension": ".py",
   "mimetype": "text/x-python",
   "name": "python",
   "nbconvert_exporter": "python",
   "pygments_lexer": "ipython3",
   "version": "3.9.0"
  },
  "orig_nbformat": 4
 },
 "nbformat": 4,
 "nbformat_minor": 2
}
